{
  "nbformat": 4,
  "nbformat_minor": 0,
  "metadata": {
    "colab": {
      "provenance": []
    },
    "kernelspec": {
      "name": "python3",
      "display_name": "Python 3"
    },
    "language_info": {
      "name": "python"
    }
  },
  "cells": [
    {
      "cell_type": "code",
      "execution_count": 35,
      "metadata": {
        "colab": {
          "base_uri": "https://localhost:8080/"
        },
        "id": "ZrzYsxTNlgty",
        "outputId": "96589a87-6a42-49b0-8269-ea3c8bd27201"
      },
      "outputs": [
        {
          "output_type": "execute_result",
          "data": {
            "text/plain": [
              "array([8, 0, 1, ..., 0, 6, 8])"
            ]
          },
          "metadata": {},
          "execution_count": 35
        }
      ],
      "source": [
        "import numpy as np\n",
        "import pandas as pd\n",
        "from matplotlib import pyplot as plt\n",
        "\n",
        "data = pd.read_csv('train.csv')\n",
        "\n",
        "data = np.array(data)\n",
        "m, n = data.shape\n",
        "np.random.shuffle(data) # Embaralha os dados antes de separar em treino e teste\n",
        "\n",
        "data_dev = data[0:1000].T\n",
        "Y_dev = data_dev[0]\n",
        "X_dev = data_dev[1:n]\n",
        "X_dev = X_dev / 255.\n",
        "\n",
        "data_train = data[1000:m].T\n",
        "Y_train = data_train[0]\n",
        "X_train = data_train[1:n]\n",
        "X_train = X_train / 255.\n",
        "_,m_train = X_train.shape\n",
        "\n",
        "Y_train\n"
      ]
    },
    {
      "cell_type": "code",
      "source": [
        "def init_params():\n",
        "    W1 = np.random.rand(10, 784) - 0.5\n",
        "    b1 = np.random.rand(10, 1) - 0.5\n",
        "    W2 = np.random.rand(10, 10) - 0.5\n",
        "    b2 = np.random.rand(10, 1) - 0.5\n",
        "    return W1, b1, W2, b2\n",
        "\n",
        "def ReLU(Z):\n",
        "    return np.maximum(Z, 0)\n",
        "\n",
        "# acho que está errado\n",
        "def softmax(Z):\n",
        "    A = np.exp(Z) / sum(np.exp(Z))\n",
        "    return A\n",
        "\n",
        "def forward_prop(W1, b1, W2, b2, X):\n",
        "    Z1 = W1.dot(X) + b1\n",
        "    A1 = ReLU(Z1)\n",
        "    Z2 = W2.dot(A1) + b2\n",
        "    A2 = softmax(Z2)\n",
        "    return Z1, A1, Z2, A2\n",
        "\n",
        "def ReLU_deriv(Z):\n",
        "    return Z > 0\n",
        "\n",
        "def one_hot(Y):\n",
        "    one_hot_Y = np.zeros((Y.size, Y.max() + 1)) # aqui parece ter um erro, mas acho que é bug\n",
        "    one_hot_Y[np.arange(Y.size), Y] = 1\n",
        "    one_hot_Y = one_hot_Y.T\n",
        "    return one_hot_Y\n",
        "\n",
        "def backward_prop(Z1, A1, Z2, A2, W1, W2, X, Y):\n",
        "    one_hot_Y = one_hot(Y)\n",
        "    dZ2 = A2 - one_hot_Y\n",
        "    dW2 = 1 / m * dZ2.dot(A1.T)\n",
        "    db2 = 1 / m * np.sum(dZ2)\n",
        "    dZ1 = W2.T.dot(dZ2) * ReLU_deriv(Z1)\n",
        "    dW1 = 1 / m * dZ1.dot(X.T)\n",
        "    db1 = 1 / m * np.sum(dZ1)\n",
        "    return dW1, db1, dW2, db2\n",
        "\n",
        "def update_params(W1, b1, W2, b2, dW1, db1, dW2, db2, alpha):\n",
        "    W1 = W1 - alpha * dW1\n",
        "    b1 = b1 - alpha * db1\n",
        "    W2 = W2 - alpha * dW2\n",
        "    b2 = b2 - alpha * db2\n",
        "    return W1, b1, W2, b2"
      ],
      "metadata": {
        "id": "rbGHoTbclxWn"
      },
      "execution_count": 36,
      "outputs": []
    },
    {
      "cell_type": "code",
      "source": [
        "def get_predictions(A2):\n",
        "    return np.argmax(A2, 0)\n",
        "\n",
        "def get_accuracy(predictions, Y):\n",
        "    print(predictions, Y)\n",
        "    return np.sum(predictions == Y) / Y.size\n",
        "\n",
        "def gradient_descent(X, Y, alpha, iterations):\n",
        "    W1, b1, W2, b2 = init_params()\n",
        "    for i in range(iterations):\n",
        "        Z1, A1, Z2, A2 = forward_prop(W1, b1, W2, b2, X)\n",
        "        dW1, db1, dW2, db2 = backward_prop(Z1, A1, Z2, A2, W1, W2, X, Y)\n",
        "        W1, b1, W2, b2 = update_params(W1, b1, W2, b2, dW1, db1, dW2, db2, alpha)\n",
        "        if i % 10 == 0:\n",
        "            print(\"Iteração: \", i)\n",
        "            predictions = get_predictions(A2)\n",
        "            print(get_accuracy(predictions, Y))\n",
        "    return W1, b1, W2, b2"
      ],
      "metadata": {
        "id": "fzZOj87Rl0t9"
      },
      "execution_count": 37,
      "outputs": []
    },
    {
      "cell_type": "code",
      "source": [
        "W1, b1, W2, b2 = gradient_descent(X_train, Y_train, 0.10, 500) # tem hora que funciona e tem hora que não (provável é bug do colab)"
      ],
      "metadata": {
        "colab": {
          "base_uri": "https://localhost:8080/"
        },
        "id": "YRXJurGDl6DR",
        "outputId": "7df2bad1-8df5-4faa-a471-4b3a359b6f10"
      },
      "execution_count": 38,
      "outputs": [
        {
          "output_type": "stream",
          "name": "stdout",
          "text": [
            "Iteração:  0\n",
            "[0 0 9 ... 4 0 5] [8 0 1 ... 0 6 8]\n",
            "0.09995121951219513\n",
            "Iteração:  10\n",
            "[8 3 1 ... 4 0 7] [8 0 1 ... 0 6 8]\n",
            "0.1901219512195122\n",
            "Iteração:  20\n",
            "[8 0 1 ... 0 0 9] [8 0 1 ... 0 6 8]\n",
            "0.2748048780487805\n",
            "Iteração:  30\n",
            "[8 0 1 ... 0 0 9] [8 0 1 ... 0 6 8]\n",
            "0.3483414634146341\n",
            "Iteração:  40\n",
            "[5 0 1 ... 0 0 9] [8 0 1 ... 0 6 8]\n",
            "0.4224390243902439\n",
            "Iteração:  50\n",
            "[8 0 1 ... 0 0 9] [8 0 1 ... 0 6 8]\n",
            "0.4876829268292683\n",
            "Iteração:  60\n",
            "[8 0 1 ... 0 0 9] [8 0 1 ... 0 6 8]\n",
            "0.5389512195121952\n",
            "Iteração:  70\n",
            "[5 0 1 ... 0 0 9] [8 0 1 ... 0 6 8]\n",
            "0.5791463414634146\n",
            "Iteração:  80\n",
            "[5 0 1 ... 0 0 9] [8 0 1 ... 0 6 8]\n",
            "0.6102439024390244\n",
            "Iteração:  90\n",
            "[5 0 1 ... 0 0 9] [8 0 1 ... 0 6 8]\n",
            "0.6337560975609756\n",
            "Iteração:  100\n",
            "[5 0 1 ... 0 0 9] [8 0 1 ... 0 6 8]\n",
            "0.6548780487804878\n",
            "Iteração:  110\n",
            "[8 0 1 ... 0 0 9] [8 0 1 ... 0 6 8]\n",
            "0.6717317073170732\n",
            "Iteração:  120\n",
            "[8 0 1 ... 0 0 9] [8 0 1 ... 0 6 8]\n",
            "0.6864634146341464\n",
            "Iteração:  130\n",
            "[8 0 1 ... 0 0 9] [8 0 1 ... 0 6 8]\n",
            "0.6995853658536585\n",
            "Iteração:  140\n",
            "[8 0 1 ... 0 0 9] [8 0 1 ... 0 6 8]\n",
            "0.7106097560975609\n",
            "Iteração:  150\n",
            "[8 0 1 ... 0 0 9] [8 0 1 ... 0 6 8]\n",
            "0.7205121951219512\n",
            "Iteração:  160\n",
            "[8 0 1 ... 0 0 9] [8 0 1 ... 0 6 8]\n",
            "0.7300975609756097\n",
            "Iteração:  170\n",
            "[8 0 1 ... 0 6 9] [8 0 1 ... 0 6 8]\n",
            "0.7393414634146341\n",
            "Iteração:  180\n",
            "[8 0 1 ... 0 6 9] [8 0 1 ... 0 6 8]\n",
            "0.7469024390243902\n",
            "Iteração:  190\n",
            "[8 0 1 ... 0 6 9] [8 0 1 ... 0 6 8]\n",
            "0.7529512195121951\n",
            "Iteração:  200\n",
            "[8 0 1 ... 0 6 9] [8 0 1 ... 0 6 8]\n",
            "0.7601951219512195\n",
            "Iteração:  210\n",
            "[8 0 1 ... 0 6 9] [8 0 1 ... 0 6 8]\n",
            "0.7665365853658537\n",
            "Iteração:  220\n",
            "[8 0 1 ... 0 6 9] [8 0 1 ... 0 6 8]\n",
            "0.7722682926829268\n",
            "Iteração:  230\n",
            "[8 0 1 ... 0 6 9] [8 0 1 ... 0 6 8]\n",
            "0.7777317073170732\n",
            "Iteração:  240\n",
            "[8 0 1 ... 0 6 9] [8 0 1 ... 0 6 8]\n",
            "0.7834878048780488\n",
            "Iteração:  250\n",
            "[8 0 1 ... 0 6 9] [8 0 1 ... 0 6 8]\n",
            "0.7890487804878049\n",
            "Iteração:  260\n",
            "[8 0 1 ... 0 6 9] [8 0 1 ... 0 6 8]\n",
            "0.7935365853658537\n",
            "Iteração:  270\n",
            "[8 0 1 ... 0 6 9] [8 0 1 ... 0 6 8]\n",
            "0.7976585365853659\n",
            "Iteração:  280\n",
            "[8 0 1 ... 0 6 9] [8 0 1 ... 0 6 8]\n",
            "0.8017560975609757\n",
            "Iteração:  290\n",
            "[8 0 1 ... 0 6 9] [8 0 1 ... 0 6 8]\n",
            "0.805439024390244\n",
            "Iteração:  300\n",
            "[8 0 1 ... 0 6 9] [8 0 1 ... 0 6 8]\n",
            "0.8090487804878049\n",
            "Iteração:  310\n",
            "[8 0 1 ... 0 6 9] [8 0 1 ... 0 6 8]\n",
            "0.812439024390244\n",
            "Iteração:  320\n",
            "[8 0 1 ... 0 6 9] [8 0 1 ... 0 6 8]\n",
            "0.8156829268292682\n",
            "Iteração:  330\n",
            "[8 0 1 ... 0 6 9] [8 0 1 ... 0 6 8]\n",
            "0.8193414634146341\n",
            "Iteração:  340\n",
            "[8 0 1 ... 0 6 9] [8 0 1 ... 0 6 8]\n",
            "0.822170731707317\n",
            "Iteração:  350\n",
            "[8 0 1 ... 0 6 9] [8 0 1 ... 0 6 8]\n",
            "0.8247317073170731\n",
            "Iteração:  360\n",
            "[8 0 1 ... 0 6 9] [8 0 1 ... 0 6 8]\n",
            "0.8268292682926829\n",
            "Iteração:  370\n",
            "[8 0 1 ... 0 6 9] [8 0 1 ... 0 6 8]\n",
            "0.8291951219512195\n",
            "Iteração:  380\n",
            "[8 0 1 ... 0 6 9] [8 0 1 ... 0 6 8]\n",
            "0.8311219512195122\n",
            "Iteração:  390\n",
            "[8 0 1 ... 0 6 9] [8 0 1 ... 0 6 8]\n",
            "0.833\n",
            "Iteração:  400\n",
            "[8 0 1 ... 0 6 9] [8 0 1 ... 0 6 8]\n",
            "0.8349756097560975\n",
            "Iteração:  410\n",
            "[8 0 1 ... 0 6 9] [8 0 1 ... 0 6 8]\n",
            "0.8370975609756097\n",
            "Iteração:  420\n",
            "[8 0 1 ... 0 6 9] [8 0 1 ... 0 6 8]\n",
            "0.8388292682926829\n",
            "Iteração:  430\n",
            "[8 0 1 ... 0 6 9] [8 0 1 ... 0 6 8]\n",
            "0.8403170731707317\n",
            "Iteração:  440\n",
            "[8 0 1 ... 0 6 9] [8 0 1 ... 0 6 8]\n",
            "0.8424878048780488\n",
            "Iteração:  450\n",
            "[8 0 1 ... 0 6 9] [8 0 1 ... 0 6 8]\n",
            "0.8445121951219512\n",
            "Iteração:  460\n",
            "[8 0 1 ... 0 6 2] [8 0 1 ... 0 6 8]\n",
            "0.8459512195121951\n",
            "Iteração:  470\n",
            "[8 0 1 ... 0 6 2] [8 0 1 ... 0 6 8]\n",
            "0.8473414634146341\n",
            "Iteração:  480\n",
            "[8 0 1 ... 0 6 2] [8 0 1 ... 0 6 8]\n",
            "0.8488780487804878\n",
            "Iteração:  490\n",
            "[8 0 1 ... 0 6 2] [8 0 1 ... 0 6 8]\n",
            "0.8502682926829268\n"
          ]
        }
      ]
    },
    {
      "cell_type": "code",
      "source": [
        "def make_predictions(X, W1, b1, W2, b2):\n",
        "    _, _, _, A2 = forward_prop(W1, b1, W2, b2, X)\n",
        "    predictions = get_predictions(A2)\n",
        "    return predictions\n",
        "\n",
        "def test_prediction(index, W1, b1, W2, b2):\n",
        "    current_image = X_train[:, index, None]\n",
        "    prediction = make_predictions(X_train[:, index, None], W1, b1, W2, b2)\n",
        "    label = Y_train[index]\n",
        "    print(\"Previsão: \", prediction)\n",
        "    print(\"Etiqueta: \", label)\n",
        "\n",
        "    current_image = current_image.reshape((28, 28)) * 255\n",
        "    plt.imshow(current_image,cmap=\"gray\")\n",
        "    plt.axis('off')\n",
        "    plt.show()"
      ],
      "metadata": {
        "id": "A4bHeZqFl9A7"
      },
      "execution_count": 47,
      "outputs": []
    },
    {
      "cell_type": "code",
      "source": [
        "test_prediction(0, W1, b1, W2, b2)\n",
        "test_prediction(1, W1, b1, W2, b2)\n",
        "test_prediction(2, W1, b1, W2, b2)\n",
        "test_prediction(3, W1, b1, W2, b2)"
      ],
      "metadata": {
        "colab": {
          "base_uri": "https://localhost:8080/",
          "height": 1000
        },
        "id": "IzsmwJqul_2n",
        "outputId": "28a0cdc0-823a-4d11-8cc2-ecdd8f991d8d"
      },
      "execution_count": 48,
      "outputs": [
        {
          "output_type": "stream",
          "name": "stdout",
          "text": [
            "Previsão:  [8]\n",
            "Etiqueta:  8\n"
          ]
        },
        {
          "output_type": "display_data",
          "data": {
            "text/plain": [
              "<Figure size 640x480 with 1 Axes>"
            ],
            "image/png": "[encoded data removed]"
          },
          "metadata": {}
        },
        {
          "output_type": "stream",
          "name": "stdout",
          "text": [
            "Previsão:  [0]\n",
            "Etiqueta:  0\n"
          ]
        },
        {
          "output_type": "display_data",
          "data": {
            "text/plain": [
              "<Figure size 640x480 with 1 Axes>"
            ],
            "image/png": "[encoded data removed]"
          },
          "metadata": {}
        },
        {
          "output_type": "stream",
          "name": "stdout",
          "text": [
            "Previsão:  [1]\n",
            "Etiqueta:  1\n"
          ]
        },
        {
          "output_type": "display_data",
          "data": {
            "text/plain": [
              "<Figure size 640x480 with 1 Axes>"
            ],
            "image/png": "[encoded data removed]"
          },
          "metadata": {}
        },
        {
          "output_type": "stream",
          "name": "stdout",
          "text": [
            "Previsão:  [8]\n",
            "Etiqueta:  2\n"
          ]
        },
        {
          "output_type": "display_data",
          "data": {
            "text/plain": [
              "<Figure size 640x480 with 1 Axes>"
            ],
            "image/png": "[encoded data removed]"
          },
          "metadata": {}
        }
      ]
    }
  ]
}